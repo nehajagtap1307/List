{
  "nbformat": 4,
  "nbformat_minor": 0,
  "metadata": {
    "colab": {
      "provenance": []
    },
    "kernelspec": {
      "name": "python3",
      "display_name": "Python 3"
    },
    "language_info": {
      "name": "python"
    }
  },
  "cells": [
    {
      "cell_type": "code",
      "execution_count": null,
      "metadata": {
        "id": "L3NxUZP1eObE"
      },
      "outputs": [],
      "source": [
        "#LIST\n",
        "# List is a versatile datatype available in python in which elements are written as a list of comma separated value inside sqaure brackets.\n",
        "# Lists are mutable.\n",
        "# Syntax- list_variable=[var1,var2,var3,..]"
      ]
    },
    {
      "cell_type": "code",
      "source": [
        "#Updating values in list\n",
        "list=[1,2,3,4,5,6,7,8,9,10]\n",
        "print(list)\n",
        "list[5]=100\n",
        "print(list)\n",
        "del list[3]\n",
        "print(list)\n",
        "del list[2:4]\n",
        "print(list)\n"
      ],
      "metadata": {
        "colab": {
          "base_uri": "https://localhost:8080/"
        },
        "id": "hJv85V5YfZVk",
        "outputId": "a22ccec9-55f5-434d-c2b7-426a934e557a"
      },
      "execution_count": 3,
      "outputs": [
        {
          "output_type": "stream",
          "name": "stdout",
          "text": [
            "[1, 2, 3, 4, 5, 6, 7, 8, 9, 10]\n",
            "[1, 2, 3, 4, 5, 100, 7, 8, 9, 10]\n",
            "[1, 2, 3, 5, 100, 7, 8, 9, 10]\n",
            "[1, 2, 100, 7, 8, 9, 10]\n"
          ]
        }
      ]
    },
    {
      "cell_type": "code",
      "source": [
        "#cloning list\n",
        "list1=[1,2,3,4,5]\n",
        "list2=list1\n",
        "print(list2)"
      ],
      "metadata": {
        "colab": {
          "base_uri": "https://localhost:8080/"
        },
        "id": "sEKGdJPxhwQE",
        "outputId": "c25d3f37-21a9-4a40-9013-8feffe174af2"
      },
      "execution_count": 4,
      "outputs": [
        {
          "output_type": "stream",
          "name": "stdout",
          "text": [
            "[1, 2, 3, 4, 5]\n"
          ]
        }
      ]
    },
    {
      "cell_type": "code",
      "source": [
        "#concatnation\n",
        "list1=[1,2,3,4,5]\n",
        "list2=[6,7,8,9,10]\n",
        "list3=list1+list2\n",
        "print(list3)"
      ],
      "metadata": {
        "colab": {
          "base_uri": "https://localhost:8080/"
        },
        "id": "J_m9O-Ijim7e",
        "outputId": "7c06acd4-848a-4bfd-feaf-9dbd6ce00bb3"
      },
      "execution_count": 5,
      "outputs": [
        {
          "output_type": "stream",
          "name": "stdout",
          "text": [
            "[1, 2, 3, 4, 5, 6, 7, 8, 9, 10]\n"
          ]
        }
      ]
    },
    {
      "cell_type": "code",
      "source": [
        "#len- returns length of list\n",
        "list1=[1,2,3,4,5]\n",
        "len(list1)"
      ],
      "metadata": {
        "colab": {
          "base_uri": "https://localhost:8080/"
        },
        "id": "WutvTyeciz-C",
        "outputId": "edf0b11e-e6ba-45d5-dc64-e48b91c9f898"
      },
      "execution_count": 7,
      "outputs": [
        {
          "output_type": "execute_result",
          "data": {
            "text/plain": [
              "5"
            ]
          },
          "metadata": {},
          "execution_count": 7
        }
      ]
    },
    {
      "cell_type": "code",
      "source": [
        "#list methods:\n",
        "# append()- it adds new elements at the end of the list\n",
        "list=[]\n",
        "list.append(22)\n",
        "list.append(44)\n",
        "print(list)"
      ],
      "metadata": {
        "colab": {
          "base_uri": "https://localhost:8080/"
        },
        "id": "qbLJlEx9jEAa",
        "outputId": "b16c3bda-dfb6-4558-decd-0361b536fd45"
      },
      "execution_count": 8,
      "outputs": [
        {
          "output_type": "stream",
          "name": "stdout",
          "text": [
            "[22, 44]\n"
          ]
        }
      ]
    },
    {
      "cell_type": "code",
      "source": [
        "#clear()- removes all elements from the list.\n",
        "list=[1,2,3,4,5]\n",
        "list.clear()\n",
        "print(list)"
      ],
      "metadata": {
        "colab": {
          "base_uri": "https://localhost:8080/"
        },
        "id": "5DawNTP9jiqt",
        "outputId": "e22a58af-3857-4db4-9e77-6a7bf8a6cdde"
      },
      "execution_count": 9,
      "outputs": [
        {
          "output_type": "stream",
          "name": "stdout",
          "text": [
            "[]\n"
          ]
        }
      ]
    },
    {
      "cell_type": "code",
      "source": [
        "#copy()- returns copy of list\n",
        "list=[1,2,3,4,5]\n",
        "print(list.copy())"
      ],
      "metadata": {
        "colab": {
          "base_uri": "https://localhost:8080/"
        },
        "id": "yxrQah3Lj2XI",
        "outputId": "fcecda74-f2a0-42ae-c2d7-7569ad9d739b"
      },
      "execution_count": 10,
      "outputs": [
        {
          "output_type": "stream",
          "name": "stdout",
          "text": [
            "[1, 2, 3, 4, 5]\n"
          ]
        }
      ]
    },
    {
      "cell_type": "code",
      "source": [
        "#count()- count the number of occurances of elements in list\n",
        "list=[1,2,3,4,2,5,6,2,2,7,2,8,2,2,2,9,7,6,2]\n",
        "list.count(2)"
      ],
      "metadata": {
        "colab": {
          "base_uri": "https://localhost:8080/"
        },
        "id": "Xl0X4BiqkGhB",
        "outputId": "0059d462-e8f2-44b5-f842-cfac7b964d2e"
      },
      "execution_count": 11,
      "outputs": [
        {
          "output_type": "execute_result",
          "data": {
            "text/plain": [
              "9"
            ]
          },
          "metadata": {},
          "execution_count": 11
        }
      ]
    },
    {
      "cell_type": "code",
      "source": [
        "#extend() - adds all elements of an terable to the list\n",
        "list=[1,2,3,4,5]\n",
        "list.extend([6,7,8,9,10])\n",
        "print(list)"
      ],
      "metadata": {
        "colab": {
          "base_uri": "https://localhost:8080/"
        },
        "id": "4h81Aui5kcbp",
        "outputId": "ce6cf999-037e-4b00-8ae1-b3058b5e94f5"
      },
      "execution_count": 12,
      "outputs": [
        {
          "output_type": "stream",
          "name": "stdout",
          "text": [
            "[1, 2, 3, 4, 5, 6, 7, 8, 9, 10]\n"
          ]
        }
      ]
    },
    {
      "cell_type": "code",
      "source": [
        "# index(x) - returns the position of 1st occurance of value x\n",
        "list=[\"Alice\",\"Bob\",\"Charlie\",\"David\",\"Alice\"]\n",
        "print(list.index(\"Alice\"))\n",
        "print(list.index(\"Bob\"))\n"
      ],
      "metadata": {
        "colab": {
          "base_uri": "https://localhost:8080/"
        },
        "id": "MHceeSvNk2QJ",
        "outputId": "65f63957-0ad2-4bbd-cc27-2b67f1edef03"
      },
      "execution_count": 15,
      "outputs": [
        {
          "output_type": "stream",
          "name": "stdout",
          "text": [
            "0\n",
            "1\n"
          ]
        }
      ]
    },
    {
      "cell_type": "code",
      "source": [
        "#insert(i,x) - inserts element x at position index i\n",
        "list=[1,3,4,5,6,7,8,9]\n",
        "list.insert(1,2)\n",
        "list.insert(9,10)\n",
        "print(list)"
      ],
      "metadata": {
        "colab": {
          "base_uri": "https://localhost:8080/"
        },
        "id": "yBFF1X78lXTK",
        "outputId": "4d4a7c53-7bb9-4ac1-f249-ee77de11beca"
      },
      "execution_count": 17,
      "outputs": [
        {
          "output_type": "stream",
          "name": "stdout",
          "text": [
            "[1, 2, 3, 4, 5, 6, 7, 8, 9, 10]\n"
          ]
        }
      ]
    },
    {
      "cell_type": "code",
      "source": [
        "#pop() - removes and returns the final or last element\n",
        "list=[1,2,3,4,5,6,7,8,9]\n",
        "list.pop()\n"
      ],
      "metadata": {
        "colab": {
          "base_uri": "https://localhost:8080/"
        },
        "id": "zkDRdxNhl-5R",
        "outputId": "e78b8bb5-e344-4687-8d18-7d8a8fde7206"
      },
      "execution_count": 21,
      "outputs": [
        {
          "output_type": "execute_result",
          "data": {
            "text/plain": [
              "9"
            ]
          },
          "metadata": {},
          "execution_count": 21
        }
      ]
    },
    {
      "cell_type": "code",
      "source": [
        "#remove(x) - removes the first occurance of element x\n",
        "list=[1,2,3,4,5,6,7]\n",
        "list.remove(6)\n",
        "print(list)"
      ],
      "metadata": {
        "colab": {
          "base_uri": "https://localhost:8080/"
        },
        "id": "1TUsIt0GmVJo",
        "outputId": "7d472879-5385-4741-84d9-9556eb809f15"
      },
      "execution_count": 24,
      "outputs": [
        {
          "output_type": "stream",
          "name": "stdout",
          "text": [
            "[1, 2, 3, 4, 5, 7]\n"
          ]
        }
      ]
    },
    {
      "cell_type": "code",
      "source": [
        "#reverse() - reverse the order of elements in the list\n",
        "list=[1,2,3,4,5,6,7,8,9]\n",
        "list.reverse()\n",
        "print(list)"
      ],
      "metadata": {
        "colab": {
          "base_uri": "https://localhost:8080/"
        },
        "id": "mvAhCzRhm2R6",
        "outputId": "f9fde166-7a3c-4db2-90c8-6c8181381277"
      },
      "execution_count": 25,
      "outputs": [
        {
          "output_type": "stream",
          "name": "stdout",
          "text": [
            "[9, 8, 7, 6, 5, 4, 3, 2, 1]\n"
          ]
        }
      ]
    },
    {
      "cell_type": "code",
      "source": [
        "#sort() - sorts the elements in ascending order\n",
        "list=[3,5,1,6,8,2,4,10,9,7]\n",
        "list.sort()\n",
        "print(list)\n",
        "\n",
        "#Can be used for names also\n",
        "list=[\"Bob\",\"Alice\",\"Aanvi\",\"Nyra\",\"Charlie\",\"David\"]\n",
        "list.sort()\n",
        "print(list)"
      ],
      "metadata": {
        "colab": {
          "base_uri": "https://localhost:8080/"
        },
        "id": "PQwwWlAKnCY_",
        "outputId": "3b2f5097-62d7-4bcf-bec6-1dee926e56be"
      },
      "execution_count": 27,
      "outputs": [
        {
          "output_type": "stream",
          "name": "stdout",
          "text": [
            "[1, 2, 3, 4, 5, 6, 7, 8, 9, 10]\n",
            "['Aanvi', 'Alice', 'Bob', 'Charlie', 'David', 'Nyra']\n"
          ]
        }
      ]
    }
  ]
}